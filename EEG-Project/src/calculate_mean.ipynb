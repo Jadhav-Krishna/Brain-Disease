{
 "cells": [
  {
   "cell_type": "code",
   "execution_count": 1,
   "metadata": {},
   "outputs": [
    {
     "name": "stdout",
     "output_type": "stream",
     "text": [
      "✅ Mean EEG Signal calculated and saved to 'data/eeg_dataset_mean.csv'\n"
     ]
    }
   ],
   "source": [
    "import pandas as pd\n",
    "\n",
    "# Load the dataset\n",
    "df = pd.read_csv(\"data/eeg_dataset_patients.csv\")\n",
    "\n",
    "# Calculate the mean of the 14 EEG signals for each patient\n",
    "df['Mean_EEG'] = df[[f'EEG_Signal_{i+1}' for i in range(14)]].mean(axis=1)\n",
    "\n",
    "# Save the updated dataset\n",
    "df.to_csv(\"data/eeg_dataset_mean.csv\", index=False)\n",
    "\n",
    "print(\"✅ Mean EEG Signal calculated and saved to 'data/eeg_dataset_mean.csv'\")\n"
   ]
  }
 ],
 "metadata": {
  "kernelspec": {
   "display_name": "Python 3",
   "language": "python",
   "name": "python3"
  },
  "language_info": {
   "codemirror_mode": {
    "name": "ipython",
    "version": 3
   },
   "file_extension": ".py",
   "mimetype": "text/x-python",
   "name": "python",
   "nbconvert_exporter": "python",
   "pygments_lexer": "ipython3",
   "version": "3.12.3"
  }
 },
 "nbformat": 4,
 "nbformat_minor": 2
}
