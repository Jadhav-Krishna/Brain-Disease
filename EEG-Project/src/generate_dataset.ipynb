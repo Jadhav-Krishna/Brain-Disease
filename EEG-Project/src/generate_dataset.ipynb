{
 "cells": [
  {
   "cell_type": "code",
   "execution_count": null,
   "metadata": {},
   "outputs": [],
   "source": []
  },
  {
   "cell_type": "code",
   "execution_count": 1,
   "metadata": {},
   "outputs": [
    {
     "name": "stdout",
     "output_type": "stream",
     "text": [
      "✅ Dataset with 1000 patients created successfully!\n"
     ]
    }
   ],
   "source": [
    "import pandas as pd\n",
    "import numpy as np\n",
    "import random\n",
    "import os\n",
    "\n",
    "# Make sure the 'data' folder exists\n",
    "os.makedirs(\"data\", exist_ok=True)\n",
    "\n",
    "# Diseases and their corresponding wave changes\n",
    "disease_wave_changes = {\n",
    "    \"Healthy\": {\"Increased_Waves\": [], \"Decreased_Waves\": []},\n",
    "    \"Parkinson\": {\"Increased_Waves\": [\"Delta\", \"Theta\"], \"Decreased_Waves\": [\"Beta\"]},\n",
    "    \"Brain Tumor\": {\"Increased_Waves\": [\"Delta\"], \"Decreased_Waves\": [\"Alpha\"]},\n",
    "    \"Stroke\": {\"Increased_Waves\": [\"Delta\", \"Theta\"], \"Decreased_Waves\": [\"Alpha\"]},\n",
    "    \"Alzheimer's\": {\"Increased_Waves\": [\"Delta\", \"Theta\"], \"Decreased_Waves\": [\"Alpha\", \"Beta\"]},\n",
    "    \"Epilepsy\": {\"Increased_Waves\": [\"Spikes\", \"Delta\"], \"Decreased_Waves\": []},\n",
    "    \"Migraine\": {\"Increased_Waves\": [\"Theta\"], \"Decreased_Waves\": [\"Alpha\"]},\n",
    "}\n",
    "\n",
    "# Generate random EEG signals for each patient\n",
    "def generate_eeg_signals(disease):\n",
    "    base_signal = np.random.normal(0.5, 0.1, 14)  # Base EEG signal for 14 channels\n",
    "    wave_changes = disease_wave_changes[disease]\n",
    "    \n",
    "    for wave in wave_changes[\"Increased_Waves\"]:\n",
    "        base_signal += np.random.normal(0.1, 0.05, 14)  # Increase certain wave signals\n",
    "    \n",
    "    for wave in wave_changes[\"Decreased_Waves\"]:\n",
    "        base_signal -= np.random.normal(0.1, 0.05, 14)  # Decrease certain wave signals\n",
    "    \n",
    "    return base_signal\n",
    "\n",
    "# Create the dataset\n",
    "np.random.seed(42)\n",
    "patients = []\n",
    "\n",
    "for i in range(1000):  # Change patient count to 1000\n",
    "    disease = random.choice(list(disease_wave_changes.keys()))\n",
    "    eeg_signals = generate_eeg_signals(disease)\n",
    "    mean_eeg = np.mean(eeg_signals)\n",
    "    \n",
    "    if mean_eeg > 0.7:\n",
    "        mood = \"Happy\"\n",
    "    elif mean_eeg >= 0.45:\n",
    "        mood = \"Neutral\"\n",
    "    else:\n",
    "        mood = \"Sad\"\n",
    "    \n",
    "    health_status = \"Unhealthy\" if disease != \"Healthy\" else \"Healthy\"\n",
    "    \n",
    "    patient = {\n",
    "        \"Patient_ID\": i + 1,\n",
    "        \"Disease\": disease,\n",
    "        \"Health_Status\": health_status,\n",
    "        \"Mood\": mood,\n",
    "        \"Mean_EEG\": mean_eeg\n",
    "    }\n",
    "    \n",
    "    # Add EEG signals to the patient record\n",
    "    for j in range(14):\n",
    "        patient[f\"EEG_Signal_{j+1}\"] = eeg_signals[j]\n",
    "    \n",
    "    patients.append(patient)\n",
    "\n",
    "# Convert to DataFrame\n",
    "df = pd.DataFrame(patients)\n",
    "\n",
    "# Save the dataset\n",
    "df.to_csv(\"data/eeg_data_1000_patients.csv\", index=False)\n",
    "\n",
    "print(\"✅ Dataset with 1000 patients created successfully!\")\n"
   ]
  }
 ],
 "metadata": {
  "kernelspec": {
   "display_name": "Python 3",
   "language": "python",
   "name": "python3"
  },
  "language_info": {
   "codemirror_mode": {
    "name": "ipython",
    "version": 3
   },
   "file_extension": ".py",
   "mimetype": "text/x-python",
   "name": "python",
   "nbconvert_exporter": "python",
   "pygments_lexer": "ipython3",
   "version": "3.12.3"
  }
 },
 "nbformat": 4,
 "nbformat_minor": 2
}
