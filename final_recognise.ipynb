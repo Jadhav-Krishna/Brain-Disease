{
 "cells": [
  {
   "cell_type": "code",
   "execution_count": null,
   "metadata": {},
   "outputs": [],
   "source": [
    "pip install pandas numpy scikit-learn"
   ]
  },
  {
   "cell_type": "code",
   "execution_count": 1,
   "metadata": {},
   "outputs": [
    {
     "name": "stdout",
     "output_type": "stream",
     "text": [
      "Accuracy: 0.4\n",
      "Classification Report:\n",
      "               precision    recall  f1-score   support\n",
      "\n",
      "           0       0.75      0.33      0.46         9\n",
      "           1       0.14      0.50      0.22         2\n",
      "           2       0.40      0.33      0.36         6\n",
      "           3       0.44      0.50      0.47         8\n",
      "\n",
      "    accuracy                           0.40        25\n",
      "   macro avg       0.43      0.42      0.38        25\n",
      "weighted avg       0.52      0.40      0.42        25\n",
      "\n",
      "Dataset with predicted diseases saved: ./EEG_Data_With_Predicted_Disease.csv\n"
     ]
    }
   ],
   "source": [
    "import pandas as pd\n",
    "import numpy as np\n",
    "from sklearn.model_selection import train_test_split\n",
    "from sklearn.ensemble import RandomForestClassifier\n",
    "from sklearn.preprocessing import LabelEncoder, StandardScaler\n",
    "from sklearn.metrics import accuracy_score, classification_report\n",
    "import os\n",
    "\n",
    "# Step 1: Load the Dataset\n",
    "file_path = \"./EEG_Data_With_Predicted_Mood.csv\"\n",
    "data = pd.read_csv(file_path)\n",
    "\n",
    "# Step 2: Add Disease Names (for demonstration, replace with real data)\n",
    "# Assign diseases randomly for demo purposes; replace with actual mapping if available\n",
    "possible_diseases = [\"Epilepsy\", \"Migraine\", \"Alzheimer's\", \"Parkinson's\"]\n",
    "np.random.seed(42)\n",
    "data[\"Disease\"] = np.random.choice(possible_diseases, size=len(data))\n",
    "\n",
    "# Step 3: Preprocessing\n",
    "# Encode categorical columns\n",
    "label_encoder = LabelEncoder()\n",
    "data[\"Predicted_Mood\"] = label_encoder.fit_transform(data[\"Predicted_Mood\"])\n",
    "data[\"Disease\"] = label_encoder.fit_transform(data[\"Disease\"])\n",
    "\n",
    "# Separate features and target\n",
    "features = data[[\"x\", \"y\", \"z\", \"Magnitude\", \"Row_Mean\", \"Predicted_Mood\"]].values\n",
    "target = data[\"Disease\"].values\n",
    "\n",
    "# Standardize the features\n",
    "scaler = StandardScaler()\n",
    "features = scaler.fit_transform(features)\n",
    "\n",
    "# Step 4: Split Data\n",
    "X_train, X_test, y_train, y_test = train_test_split(features, target, test_size=0.2, random_state=42)\n",
    "\n",
    "# Step 5: Train a Machine Learning Model\n",
    "model = RandomForestClassifier(n_estimators=100, random_state=42)\n",
    "model.fit(X_train, y_train)\n",
    "\n",
    "# Step 6: Evaluate the Model\n",
    "y_pred = model.predict(X_test)\n",
    "print(\"Accuracy:\", accuracy_score(y_test, y_pred))\n",
    "print(\"Classification Report:\\n\", classification_report(y_test, y_pred))\n",
    "\n",
    "# Step 7: Predict Diseases for Entire Dataset\n",
    "data[\"Predicted_Disease\"] = model.predict(features)\n",
    "\n",
    "# Decode predicted diseases\n",
    "data[\"Predicted_Disease\"] = label_encoder.inverse_transform(data[\"Predicted_Disease\"])\n",
    "\n",
    "# Step 8: Save the Results\n",
    "output_file_path = \"./EEG_Data_With_Predicted_Disease.csv\"\n",
    "data.to_csv(output_file_path, index=False)\n",
    "\n",
    "print(f\"Dataset with predicted diseases saved: {output_file_path}\")"
   ]
  }
 ],
 "metadata": {
  "kernelspec": {
   "display_name": "Python 3",
   "language": "python",
   "name": "python3"
  },
  "language_info": {
   "codemirror_mode": {
    "name": "ipython",
    "version": 3
   },
   "file_extension": ".py",
   "mimetype": "text/x-python",
   "name": "python",
   "nbconvert_exporter": "python",
   "pygments_lexer": "ipython3",
   "version": "3.12.3"
  }
 },
 "nbformat": 4,
 "nbformat_minor": 2
}
