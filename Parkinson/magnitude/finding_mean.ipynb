{
 "cells": [
  {
   "cell_type": "code",
   "execution_count": 3,
   "metadata": {},
   "outputs": [
    {
     "name": "stdout",
     "output_type": "stream",
     "text": [
      "Merged means saved to C:\\Users\\ASUS\\OneDrive\\Desktop\\Brain Disease\\Parkinson\\magnitude\\merged_means.csv\n"
     ]
    }
   ],
   "source": [
    "import pandas as pd\n",
    "import os\n",
    "import glob\n",
    "\n",
    "# Path to the directory containing the files\n",
    "directory_path = rf\"C:\\Users\\ASUS\\OneDrive\\Desktop\\Brain Disease\\Parkinson\\magnitude\"  # Replace with the directory containing your files\n",
    "\n",
    "# Get all CSV files in the directory\n",
    "all_files = glob.glob(os.path.join(directory_path, \"*.csv\"))\n",
    "\n",
    "# Initialize a list to store data\n",
    "mean_data = []\n",
    "\n",
    "# Process each file\n",
    "for file in all_files:\n",
    "    # Read the CSV file\n",
    "    data = pd.read_csv(file)\n",
    "    \n",
    "    # Ensure the 'Magnitude' column exists\n",
    "    if \"Magnitude\" in data.columns:\n",
    "        # Calculate the mean of the entire file\n",
    "        mean_values = data.mean(numeric_only=True)\n",
    "        mean_values[\"File\"] = os.path.basename(file)  # Add the file name for reference\n",
    "        \n",
    "        # Append the result to the list\n",
    "        mean_data.append(mean_values)\n",
    "    else:\n",
    "        print(f\"'Magnitude' column not found in {file}, skipping...\")\n",
    "\n",
    "# Create a DataFrame with the merged mean data\n",
    "merged_mean_df = pd.DataFrame(mean_data)\n",
    "\n",
    "# Save the merged means to a new CSV file\n",
    "output_file = os.path.join(directory_path, \"merged_means.csv\")\n",
    "merged_mean_df.to_csv(output_file, index=False)\n",
    "\n",
    "print(f\"Merged means saved to {output_file}\")\n"
   ]
  },
  {
   "cell_type": "code",
   "execution_count": null,
   "metadata": {},
   "outputs": [],
   "source": []
  },
  {
   "cell_type": "markdown",
   "metadata": {},
   "source": [
    "this works , properly ."
   ]
  },
  {
   "cell_type": "code",
   "execution_count": 4,
   "metadata": {},
   "outputs": [
    {
     "name": "stdout",
     "output_type": "stream",
     "text": [
      "Row-wise means calculated and saved to C:\\Users\\ASUS\\OneDrive\\Desktop\\Brain Disease\\Parkinson\\magnitude\\row_mean_merged.csv\n"
     ]
    }
   ],
   "source": [
    "import pandas as pd\n",
    "import os\n",
    "import glob\n",
    "\n",
    "# Path to the directory containing the files\n",
    "directory_path = rf\"C:\\Users\\ASUS\\OneDrive\\Desktop\\Brain Disease\\Parkinson\\magnitude\"  # Replace with the directory containing your files\n",
    "\n",
    "# Get all CSV files in the directory\n",
    "all_files = glob.glob(os.path.join(directory_path, \"*.csv\"))\n",
    "\n",
    "# Initialize a list to store data\n",
    "merged_data = []\n",
    "\n",
    "# Process each file\n",
    "for file in all_files:\n",
    "    # Read the CSV file\n",
    "    data = pd.read_csv(file)\n",
    "    \n",
    "    # Ensure the 'Magnitude' column exists\n",
    "    if \"Magnitude\" in data.columns:\n",
    "        # Calculate the mean for each row (ignoring non-numeric columns like 'name')\n",
    "        data[\"Row_Mean\"] = data.drop(columns=[\"name\"]).mean(axis=1)\n",
    "        \n",
    "        # Add a column to store the file name (optional, for reference)\n",
    "        data[\"File\"] = os.path.basename(file)\n",
    "        \n",
    "        # Append the result to the list\n",
    "        merged_data.append(data)\n",
    "    else:\n",
    "        print(f\"'Magnitude' column not found in {file}, skipping...\")\n",
    "\n",
    "# Concatenate all the data into a single DataFrame\n",
    "final_merged_df = pd.concat(merged_data, ignore_index=True)\n",
    "\n",
    "# Save the merged means to a new CSV file\n",
    "output_file = os.path.join(directory_path, \"row_mean_merged.csv\")\n",
    "final_merged_df.to_csv(output_file, index=False)\n",
    "\n",
    "print(f\"Row-wise means calculated and saved to {output_file}\")\n"
   ]
  },
  {
   "cell_type": "code",
   "execution_count": null,
   "metadata": {},
   "outputs": [],
   "source": []
  },
  {
   "cell_type": "code",
   "execution_count": 2,
   "metadata": {},
   "outputs": [
    {
     "name": "stdout",
     "output_type": "stream",
     "text": [
      "Mean magnitudes calculated and saved to C:\\Users\\ASUS\\OneDrive\\Desktop\\Brain Disease\\Parkinson\\magnitude\\mean_magnitudes.csv\n"
     ]
    }
   ],
   "source": [
    "import pandas as pd\n",
    "import os\n",
    "import glob\n",
    "\n",
    "# Path to the directory containing the files\n",
    "directory_path = rf\"C:\\Users\\ASUS\\OneDrive\\Desktop\\Brain Disease\\Parkinson\\magnitude\"  # Replace with the directory containing your files\n",
    "\n",
    "# Get all CSV files in the directory\n",
    "all_files = glob.glob(os.path.join(directory_path, \"*.csv\"))\n",
    "\n",
    "# Initialize a list to store the mean magnitudes\n",
    "mean_magnitudes = []\n",
    "\n",
    "# Process each file\n",
    "for file in all_files:\n",
    "    # Read the CSV file\n",
    "    data = pd.read_csv(file)\n",
    "    \n",
    "    # Ensure the 'Magnitude' column exists\n",
    "    if \"Magnitude\" in data.columns:\n",
    "        # Calculate the mean magnitude\n",
    "        mean_magnitude = data[\"Magnitude\"].mean()\n",
    "        \n",
    "        # Append the result to the list\n",
    "        mean_magnitudes.append({\"File\": os.path.basename(file), \"Mean_Magnitude\": mean_magnitude})\n",
    "    else:\n",
    "        print(f\"'Magnitude' column not found in {file}, skipping...\")\n",
    "\n",
    "# Create a DataFrame with the results\n",
    "mean_df = pd.DataFrame(mean_magnitudes)\n",
    "\n",
    "# Save the mean magnitudes to a new CSV file\n",
    "output_file = os.path.join(directory_path, \"mean_magnitudes.csv\")\n",
    "mean_df.to_csv(output_file, index=False)\n",
    "\n",
    "print(f\"Mean magnitudes calculated and saved to {output_file}\")"
   ]
  }
 ],
 "metadata": {
  "kernelspec": {
   "display_name": "Python 3",
   "language": "python",
   "name": "python3"
  },
  "language_info": {
   "codemirror_mode": {
    "name": "ipython",
    "version": 3
   },
   "file_extension": ".py",
   "mimetype": "text/x-python",
   "name": "python",
   "nbconvert_exporter": "python",
   "pygments_lexer": "ipython3",
   "version": "3.12.3"
  }
 },
 "nbformat": 4,
 "nbformat_minor": 2
}
