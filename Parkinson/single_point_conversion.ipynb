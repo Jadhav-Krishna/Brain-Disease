{
 "cells": [
  {
   "cell_type": "code",
   "execution_count": 4,
   "metadata": {},
   "outputs": [
    {
     "name": "stdout",
     "output_type": "stream",
     "text": [
      "Magnitudes added. Results saved to output_with_magnitudes1.csv\n",
      "Magnitudes added. Results saved to output_with_magnitudes2.csv\n",
      "Magnitudes added. Results saved to output_with_magnitudes3.csv\n",
      "Magnitudes added. Results saved to output_with_magnitudes4.csv\n",
      "Magnitudes added. Results saved to output_with_magnitudes5.csv\n"
     ]
    }
   ],
   "source": [
    "import pandas as pd\n",
    "import numpy as np\n",
    "\n",
    "# Load the CSV file\n",
    "for i in range(1, 6):\n",
    "\n",
    "    file_path = rf\"C:\\Users\\ASUS\\OneDrive\\Desktop\\Brain Disease\\Parkinson\\ses{i}.csv\"  # Replace with the path to your CSV file\n",
    "    data = pd.read_csv(file_path)\n",
    "\n",
    "# Compute the magnitude for each row\n",
    "    data[\"Magnitude\"] = np.sqrt(data[\"x\"]**2 + data[\"y\"]**2 + data[\"z\"]**2)\n",
    "\n",
    "# Save the results to a new CSV file\n",
    "    output_file = rf\"output_with_magnitudes{i}.csv\"\n",
    "    data.to_csv(output_file, index=False)\n",
    "\n",
    "    print(f\"Magnitudes added. Results saved to {output_file}\")\n"
   ]
  }
 ],
 "metadata": {
  "kernelspec": {
   "display_name": "Python 3",
   "language": "python",
   "name": "python3"
  },
  "language_info": {
   "codemirror_mode": {
    "name": "ipython",
    "version": 3
   },
   "file_extension": ".py",
   "mimetype": "text/x-python",
   "name": "python",
   "nbconvert_exporter": "python",
   "pygments_lexer": "ipython3",
   "version": "3.12.3"
  }
 },
 "nbformat": 4,
 "nbformat_minor": 2
}
