{
 "cells": [
  {
   "cell_type": "code",
   "execution_count": 3,
   "metadata": {},
   "outputs": [
    {
     "name": "stdout",
     "output_type": "stream",
     "text": [
      "Summary file created: ./BrainDisease_EEG_Data_Summary.csv\n"
     ]
    }
   ],
   "source": [
    "import os\n",
    "import pandas as pd\n",
    "\n",
    "# Base directory containing data\n",
    "base_folder = \"./BrainDisease_EEG_Data\"\n",
    "\n",
    "# Create a list to store the means for merging\n",
    "summary_data = []\n",
    "\n",
    "# Loop through diseases\n",
    "for disease in os.listdir(base_folder):\n",
    "    disease_path = os.path.join(base_folder, disease)\n",
    "    if not os.path.isdir(disease_path):\n",
    "        continue\n",
    "    \n",
    "    # Loop through frequency bands\n",
    "    for band in os.listdir(disease_path):\n",
    "        band_path = os.path.join(disease_path, band)\n",
    "        if not os.path.isdir(band_path):\n",
    "            continue\n",
    "        \n",
    "        # Loop through files in each band\n",
    "        for file in os.listdir(band_path):\n",
    "            if file.endswith(\".csv\"):\n",
    "                file_path = os.path.join(band_path, file)\n",
    "                \n",
    "                # Read the file\n",
    "                df = pd.read_csv(file_path)\n",
    "                \n",
    "                # Calculate mean of numeric columns\n",
    "                means = df[[\"x\", \"y\", \"z\", \"Magnitude\", \"Row_Mean\"]].mean().to_dict()\n",
    "                # means[\"Disease\"] = disease\n",
    "                # means[\"Band\"] = band\n",
    "                # means[\"File\"] = file\n",
    "                \n",
    "                # Append to summary data\n",
    "                summary_data.append(means)\n",
    "\n",
    "# Create a DataFrame for the summary data\n",
    "summary_df = pd.DataFrame(summary_data)\n",
    "\n",
    "# Save the summary to a CSV file\n",
    "summary_file_path = \"./BrainDisease_EEG_Data_Summary.csv\"\n",
    "summary_df.to_csv(summary_file_path, index=False)\n",
    "\n",
    "print(f\"Summary file created: {summary_file_path}\")\n"
   ]
  }
 ],
 "metadata": {
  "kernelspec": {
   "display_name": "Python 3",
   "language": "python",
   "name": "python3"
  },
  "language_info": {
   "codemirror_mode": {
    "name": "ipython",
    "version": 3
   },
   "file_extension": ".py",
   "mimetype": "text/x-python",
   "name": "python",
   "nbconvert_exporter": "python",
   "pygments_lexer": "ipython3",
   "version": "3.12.3"
  }
 },
 "nbformat": 4,
 "nbformat_minor": 2
}
